{
  "nbformat": 4,
  "nbformat_minor": 0,
  "metadata": {
    "colab": {
      "provenance": [],
      "authorship_tag": "ABX9TyMqSFDk6ho9xko4bMt9F5b2",
      "include_colab_link": true
    },
    "kernelspec": {
      "name": "python3",
      "display_name": "Python 3"
    },
    "language_info": {
      "name": "python"
    }
  },
  "cells": [
    {
      "cell_type": "markdown",
      "metadata": {
        "id": "view-in-github",
        "colab_type": "text"
      },
      "source": [
        "<a href=\"https://colab.research.google.com/github/KamalRawalCS/Daily-Python-Coding/blob/main/Decision_control.ipynb\" target=\"_parent\"><img src=\"https://colab.research.google.com/assets/colab-badge.svg\" alt=\"Open In Colab\"/></a>"
      ]
    },
    {
      "cell_type": "code",
      "execution_count": 5,
      "metadata": {
        "colab": {
          "base_uri": "https://localhost:8080/"
        },
        "id": "qzVhvkcl59Ou",
        "outputId": "0634b274-0118-4295-9a3c-f095680244cb"
      },
      "outputs": [
        {
          "output_type": "stream",
          "name": "stdout",
          "text": [
            "write your emailkamalrawal@gmail.com\n",
            "write your passwordkamal1234\n",
            "welcome\n"
          ]
        }
      ],
      "source": [
        "# correct email = kamalrawal@gmail.com\n",
        "# correct password = 1234\n",
        "\n",
        "email=input(\"write your email\")\n",
        "password=input(\"write your password\")\n",
        "\n",
        "if email==\"kamalrawal@gmail.com\" and password==\"kamal1234\":\n",
        "  print(\"welcome\")\n",
        "else:\n",
        "  print(\"invalid credentis\")"
      ]
    },
    {
      "cell_type": "code",
      "source": [
        "# correct email = kamalrawal@gmail.com\n",
        "# correct password = 1234\n",
        "\n",
        "email=input(\"write your email \\n\")\n",
        "password=input(\"write your password \\n\")\n",
        "\n",
        "if email==\"kamalrawal@gmail.com\" and password==\"1234\":\n",
        "  print(\"welcome\")\n",
        "elif email == \"kamalrawal@gmail.com\" and password != \"1234\":\n",
        "  print(\"incorrect password\")\n",
        "  password=input(\"Again write your password\")\n",
        "  if password==\"1234\":\n",
        "    print(\"finally correct password\")\n",
        "  else:\n",
        "    print(\"still wrong password\")\n",
        "else:\n",
        "  print(\"invalid credentis\")"
      ],
      "metadata": {
        "colab": {
          "base_uri": "https://localhost:8080/"
        },
        "id": "cb2tyfLj8XnW",
        "outputId": "691159bb-a5e0-41be-9f9d-9cda681880bb"
      },
      "execution_count": 12,
      "outputs": [
        {
          "output_type": "stream",
          "name": "stdout",
          "text": [
            "write your email \n",
            "kamal@gmail.com\n",
            "write your password \n",
            "1234\n",
            "invalid credentis\n"
          ]
        }
      ]
    },
    {
      "cell_type": "code",
      "source": [
        "# correct email = kamalrawal@gmail.com\n",
        "# correct password = 1234\n",
        "\n",
        "email=input(\"write your email \\n\")\n",
        "if \"@\" in email:\n",
        "  password=input(\"write your password \\n\")\n",
        "\n",
        "  if email==\"kamalrawal@gmail.com\" and password==\"1234\":\n",
        "    print(\"welcome\")\n",
        "  elif email == \"kamalrawal@gmail.com\" and password != \"1234\":\n",
        "    print(\"incorrect password\")\n",
        "    password=input(\"Again write your password\")\n",
        "    if password==\"1234\":\n",
        "      print(\"finally correct password\")\n",
        "    else:\n",
        "      print(\"still wrong password\")\n",
        "  else:\n",
        "    print(\"invalid credentis\")\n",
        "else:\n",
        "  print(\"worng email\")"
      ],
      "metadata": {
        "colab": {
          "base_uri": "https://localhost:8080/"
        },
        "id": "d-mo-YsE_KF6",
        "outputId": "35b2778d-0972-477c-b7f1-bb733c1acc59"
      },
      "execution_count": 14,
      "outputs": [
        {
          "output_type": "stream",
          "name": "stdout",
          "text": [
            "write your email \n",
            "kamalrawal@gmail.com\n",
            "write your password \n",
            "12345\n",
            "incorrect password\n",
            "Again write your password12345\n",
            "still wrong password\n"
          ]
        }
      ]
    },
    {
      "cell_type": "code",
      "source": [],
      "metadata": {
        "id": "V0ywK1csBgHK"
      },
      "execution_count": null,
      "outputs": []
    }
  ]
}