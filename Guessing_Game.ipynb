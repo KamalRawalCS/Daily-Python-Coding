{
  "nbformat": 4,
  "nbformat_minor": 0,
  "metadata": {
    "colab": {
      "provenance": [],
      "authorship_tag": "ABX9TyPe+kWdNOltPsV6GxXVSMan",
      "include_colab_link": true
    },
    "kernelspec": {
      "name": "python3",
      "display_name": "Python 3"
    },
    "language_info": {
      "name": "python"
    }
  },
  "cells": [
    {
      "cell_type": "markdown",
      "metadata": {
        "id": "view-in-github",
        "colab_type": "text"
      },
      "source": [
        "<a href=\"https://colab.research.google.com/github/KamalRawalCS/Daily-Python-Coding/blob/main/Guessing_Game.ipynb\" target=\"_parent\"><img src=\"https://colab.research.google.com/assets/colab-badge.svg\" alt=\"Open In Colab\"/></a>"
      ]
    },
    {
      "cell_type": "code",
      "source": [
        "import random"
      ],
      "metadata": {
        "id": "GO7uZNwmxr0X"
      },
      "execution_count": 13,
      "outputs": []
    },
    {
      "cell_type": "code",
      "source": [
        "jackpot=random.randint(1,100)\n",
        "guess=int(input(\"Guess an number\"))\n",
        "counter=1\n",
        "while guess != jackpot:\n",
        "  if guess<jackpot:\n",
        "    print(\"guess upper\")\n",
        "  else:\n",
        "    print(\"guess lower\")\n",
        "  guess =int(input(\"Again guess\"))\n",
        "  counter+=1\n",
        "print(\"Right Guess\")\n",
        "print(\"you took\", counter, \"attempts\")"
      ],
      "metadata": {
        "colab": {
          "base_uri": "https://localhost:8080/"
        },
        "id": "v-VziZEnz99M",
        "outputId": "71c259cb-00af-4be7-c515-933377d66f77"
      },
      "execution_count": 18,
      "outputs": [
        {
          "output_type": "stream",
          "name": "stdout",
          "text": [
            "Guess an number75\n",
            "guess lower\n",
            "Again guess70\n",
            "guess lower\n",
            "Again guess60\n",
            "guess lower\n",
            "Again guess50\n",
            "guess lower\n",
            "Again guess40\n",
            "guess lower\n",
            "Again guess30\n",
            "guess upper\n",
            "Again guess36\n",
            "guess lower\n",
            "Again guess33\n",
            "guess lower\n",
            "Again guess32\n",
            "guess lower\n",
            "Again guess31\n",
            "Right Guess\n",
            "you took 10 attempts\n"
          ]
        }
      ]
    }
  ]
}